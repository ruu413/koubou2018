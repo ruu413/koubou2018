{
 "cells": [
  {
   "cell_type": "code",
   "execution_count": 13,
   "metadata": {},
   "outputs": [
    {
     "name": "stdout",
     "output_type": "stream",
     "text": [
      "[[0.31682708 0.69627909]]\n"
     ]
    }
   ],
   "source": [
    "import numpy as np\n",
    "def sigmoid(x):\n",
    "    return 1/(1+np.exp(-x))\n",
    "\n",
    "def identity_func(x):\n",
    "    return x\n",
    "def step_func(x):\n",
    "    return y\n",
    "def softmax_func(x):\n",
    "    c=np.max(x)\n",
    "    exp_x=np.exp(x-c)\n",
    "    sum_exp_x=np.sum(exp_x)\n",
    "    return exp_x/sum_exp_x\n",
    "    \n",
    "def init_network():\n",
    "    network={}\n",
    "    network['W1'] = np.array([[0.1, 0.3, 0.5], [0.2, 0.4, 0.6]])\n",
    "    network['b1'] = np.array([[0.1, 0.2, 0.3]])\n",
    "    network['W2'] = np.array([[0.1, 0.4], [0.2, 0.5], [0.3, 0.6]])\n",
    "    network['b2'] = np.array([[0.1, 0.2]])\n",
    "    network['W3'] = np.array([[0.1, 0.3], [0.2, 0.4]])\n",
    "    network['b3'] = np.array([[0.1, 0.2]])\n",
    "    return network\n",
    "def forward(network, x):\n",
    "    # layer 1\n",
    "    W1=network['W1']\n",
    "    b1=network['b1']\n",
    "    a1=np.dot(x,W1)+b1\n",
    "    z1=sigmoid(a1)\n",
    "    W2=network['W2']\n",
    "    b2=network['b2']\n",
    "    a2=np.dot(z1,W2)+b2\n",
    "    z2=sigmoid(a2)\n",
    "    W3=network['W3']\n",
    "    b3=network['b3']\n",
    "    a3=np.dot(z2,W3)+b3\n",
    "    y=identity_func(a3)\n",
    "    \n",
    "    # layer2 layer3を実装してみてください    \n",
    "    return y\n",
    "\n",
    "network = init_network()\n",
    "x=np.array([1.0,0.5])\n",
    "y=forward(network,x)\n",
    "print(y) #[0.31682708 0.69627909]\n",
    "\n",
    "batch_size = 16\n",
    "x=np.random.rand(1000,2)\n",
    "for i in range(0,len(x),batch_size):\n",
    "    x_batch = x[i:i+batch_size]\n",
    "    y_batch = forward(network,x_batch)\n",
    "    print(y_batch)"
   ]
  },
  {
   "cell_type": "code",
   "execution_count": null,
   "metadata": {},
   "outputs": [],
   "source": []
  },
  {
   "cell_type": "code",
   "execution_count": null,
   "metadata": {},
   "outputs": [],
   "source": []
  },
  {
   "cell_type": "code",
   "execution_count": null,
   "metadata": {},
   "outputs": [],
   "source": []
  }
 ],
 "metadata": {
  "kernelspec": {
   "display_name": "Python 3",
   "language": "python",
   "name": "python3"
  },
  "language_info": {
   "codemirror_mode": {
    "name": "ipython",
    "version": 3
   },
   "file_extension": ".py",
   "mimetype": "text/x-python",
   "name": "python",
   "nbconvert_exporter": "python",
   "pygments_lexer": "ipython3",
   "version": "3.5.2"
  }
 },
 "nbformat": 4,
 "nbformat_minor": 2
}
