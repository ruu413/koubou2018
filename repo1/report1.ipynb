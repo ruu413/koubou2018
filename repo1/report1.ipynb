{
 "cells": [
  {
   "cell_type": "markdown",
   "metadata": {},
   "source": [
    "# コード"
   ]
  },
  {
   "cell_type": "code",
   "execution_count": 19,
   "metadata": {
    "scrolled": false
   },
   "outputs": [
    {
     "name": "stdout",
     "output_type": "stream",
     "text": [
      "x1:   [0 0 1 1]\n",
      "x2:   [0 1 0 1]\n",
      "AND:  [0 0 0 1]\n",
      "OR:   [0 1 1 1]\n",
      "NAND: [1 1 1 0]\n",
      "XOR:  [0 1 1 0]\n"
     ]
    }
   ],
   "source": [
    "import numpy as np\n",
    "\n",
    "def AND(x1,x2):\n",
    "    w1=0.5#x1に対するバイアス\n",
    "    w2=0.5#x2に対するバイアス\n",
    "    theta=0.7#閾値\n",
    "    return np.where(x1*w1+x2*w2>theta,1,0)\n",
    "def OR(x1,x2):\n",
    "    w1=0.5\n",
    "    w2=0.5\n",
    "    theta=0.3\n",
    "    return np.where(x1*w1+x2*w2>theta,1,0)\n",
    "def NAND(x1,x2):\n",
    "    w1=-0.5\n",
    "    w2=-0.5\n",
    "    theta=-0.7\n",
    "    return np.where(x1*w1+x2*w2>theta,1,0)\n",
    "def XOR(x1,x2):\n",
    "    return AND(OR(a,b),NAND(a,b))\n",
    "x1=np.asarray([0,0,1,1])\n",
    "x2=np.asarray([0,1,0,1])\n",
    "print('x1:  ',x1)\n",
    "print('x2:  ',x2)\n",
    "print('AND: ',AND(x1,x2))\n",
    "print('NAND:',NAND(x1,x2))\n",
    "print('OR:  ',OR(x1,x2))\n",
    "print('XOR: ',XOR(x1,x2))"
   ]
  },
  {
   "cell_type": "markdown",
   "metadata": {},
   "source": [
    "# 感想\n",
    "- numpyを自分で触る機会が今までそこまで無かったので新鮮だった\n",
    "- ループを使わないよう気を付けて書いた\n",
    "- どの関数でも同じようなことをしてるのでクラスで書いたほうがよさそうだと思った\n",
    "\n",
    "# 参考文献\n",
    "- https://qiita.com/jyori112/items/a15658d1dd17c421e1e2\n",
    "- https://note.nkmk.me/python-numpy-where/\n",
    "- https://qiita.com/tbpgr/items/989c6badefff69377da7"
   ]
  }
 ],
 "metadata": {
  "kernelspec": {
   "display_name": "Python 3",
   "language": "python",
   "name": "python3"
  },
  "language_info": {
   "codemirror_mode": {
    "name": "ipython",
    "version": 3
   },
   "file_extension": ".py",
   "mimetype": "text/x-python",
   "name": "python",
   "nbconvert_exporter": "python",
   "pygments_lexer": "ipython3",
   "version": "3.5.2"
  }
 },
 "nbformat": 4,
 "nbformat_minor": 2
}
